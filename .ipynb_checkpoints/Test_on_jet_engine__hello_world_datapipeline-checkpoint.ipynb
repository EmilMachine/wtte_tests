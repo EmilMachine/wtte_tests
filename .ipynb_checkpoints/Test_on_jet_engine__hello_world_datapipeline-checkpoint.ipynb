{
 "cells": [
  {
   "cell_type": "markdown",
   "metadata": {},
   "source": [
    "# TRY WTTE on enigine failure\n",
    "\n",
    "Based on data from NASA\n",
    "- https://c3.nasa.gov/dashlink/resources/139/\n",
    "\n",
    "Direct data link\n",
    "- http://ti.arc.nasa.gov/c/6/\n",
    "\n",
    "Inspired by\n",
    "- https://ragulpr.github.io/2016/12/22/WTTE-RNN-Hackless-churn-modeling/\n",
    "\n",
    "Data pipeline guides\n",
    "- https://github.com/ragulpr/wtte-rnn-examples/blob/master/examples/hello-world-datapipeline.ipynb\n",
    "- https://github.com/ragulpr/wtte-rnn-examples/blob/master/examples/data-pipeline-template.ipynb"
   ]
  },
  {
   "cell_type": "code",
   "execution_count": 1,
   "metadata": {
    "collapsed": false
   },
   "outputs": [],
   "source": [
    "### INSTALL PACKAGES\n",
    "\n",
    "#!pip2 install wtte"
   ]
  },
  {
   "cell_type": "code",
   "execution_count": 2,
   "metadata": {
    "collapsed": false
   },
   "outputs": [],
   "source": [
    "\n",
    "%matplotlib inline\n",
    "from __future__ import absolute_import\n",
    "from __future__ import division\n",
    "from __future__ import print_function\n",
    "from six.moves import xrange\n",
    "\n",
    "import pandas as pd\n",
    "import numpy as np\n",
    "from wtte.data_generators import generate_random_df\n",
    "import wtte.transforms as tr\n",
    "import matplotlib.pyplot as plt\n",
    "\n",
    "import wtte.weibull\n",
    "from wtte.plots.misc import timeline_plot\n",
    "from wtte.plots.misc import timeline_aggregate_plot\n",
    "pd.options.display.max_rows = 10"
   ]
  },
  {
   "cell_type": "code",
   "execution_count": 53,
   "metadata": {
    "collapsed": false
   },
   "outputs": [
    {
     "data": {
      "text/html": [
       "<div>\n",
       "<table border=\"1\" class=\"dataframe\">\n",
       "  <thead>\n",
       "    <tr style=\"text-align: right;\">\n",
       "      <th></th>\n",
       "      <th>id</th>\n",
       "      <th>time</th>\n",
       "      <th>2</th>\n",
       "      <th>3</th>\n",
       "      <th>4</th>\n",
       "      <th>5</th>\n",
       "      <th>6</th>\n",
       "      <th>7</th>\n",
       "      <th>8</th>\n",
       "      <th>9</th>\n",
       "      <th>...</th>\n",
       "      <th>19</th>\n",
       "      <th>20</th>\n",
       "      <th>21</th>\n",
       "      <th>22</th>\n",
       "      <th>23</th>\n",
       "      <th>24</th>\n",
       "      <th>25</th>\n",
       "      <th>26</th>\n",
       "      <th>27</th>\n",
       "      <th>event</th>\n",
       "    </tr>\n",
       "  </thead>\n",
       "  <tbody>\n",
       "    <tr>\n",
       "      <th>0</th>\n",
       "      <td>1</td>\n",
       "      <td>1</td>\n",
       "      <td>42.0049</td>\n",
       "      <td>0.8400</td>\n",
       "      <td>100.0</td>\n",
       "      <td>445.00</td>\n",
       "      <td>549.68</td>\n",
       "      <td>1343.43</td>\n",
       "      <td>1112.93</td>\n",
       "      <td>3.91</td>\n",
       "      <td>...</td>\n",
       "      <td>9.3335</td>\n",
       "      <td>0.02</td>\n",
       "      <td>330</td>\n",
       "      <td>2212</td>\n",
       "      <td>100.0</td>\n",
       "      <td>10.62</td>\n",
       "      <td>6.3670</td>\n",
       "      <td>0.0</td>\n",
       "      <td>0.0</td>\n",
       "      <td>0.0</td>\n",
       "    </tr>\n",
       "    <tr>\n",
       "      <th>1</th>\n",
       "      <td>1</td>\n",
       "      <td>2</td>\n",
       "      <td>20.0020</td>\n",
       "      <td>0.7002</td>\n",
       "      <td>100.0</td>\n",
       "      <td>491.19</td>\n",
       "      <td>606.07</td>\n",
       "      <td>1477.61</td>\n",
       "      <td>1237.50</td>\n",
       "      <td>9.35</td>\n",
       "      <td>...</td>\n",
       "      <td>9.1913</td>\n",
       "      <td>0.02</td>\n",
       "      <td>361</td>\n",
       "      <td>2324</td>\n",
       "      <td>100.0</td>\n",
       "      <td>24.37</td>\n",
       "      <td>14.6552</td>\n",
       "      <td>0.0</td>\n",
       "      <td>0.0</td>\n",
       "      <td>0.0</td>\n",
       "    </tr>\n",
       "    <tr>\n",
       "      <th>2</th>\n",
       "      <td>1</td>\n",
       "      <td>3</td>\n",
       "      <td>42.0038</td>\n",
       "      <td>0.8409</td>\n",
       "      <td>100.0</td>\n",
       "      <td>445.00</td>\n",
       "      <td>548.95</td>\n",
       "      <td>1343.12</td>\n",
       "      <td>1117.05</td>\n",
       "      <td>3.91</td>\n",
       "      <td>...</td>\n",
       "      <td>9.4007</td>\n",
       "      <td>0.02</td>\n",
       "      <td>329</td>\n",
       "      <td>2212</td>\n",
       "      <td>100.0</td>\n",
       "      <td>10.48</td>\n",
       "      <td>6.4213</td>\n",
       "      <td>0.0</td>\n",
       "      <td>0.0</td>\n",
       "      <td>0.0</td>\n",
       "    </tr>\n",
       "  </tbody>\n",
       "</table>\n",
       "<p>3 rows × 29 columns</p>\n",
       "</div>"
      ],
      "text/plain": [
       "   id  time        2       3      4       5       6        7        8     9  \\\n",
       "0   1     1  42.0049  0.8400  100.0  445.00  549.68  1343.43  1112.93  3.91   \n",
       "1   1     2  20.0020  0.7002  100.0  491.19  606.07  1477.61  1237.50  9.35   \n",
       "2   1     3  42.0038  0.8409  100.0  445.00  548.95  1343.12  1117.05  3.91   \n",
       "\n",
       "   ...        19    20   21    22     23     24       25   26   27  event  \n",
       "0  ...    9.3335  0.02  330  2212  100.0  10.62   6.3670  0.0  0.0    0.0  \n",
       "1  ...    9.1913  0.02  361  2324  100.0  24.37  14.6552  0.0  0.0    0.0  \n",
       "2  ...    9.4007  0.02  329  2212  100.0  10.48   6.4213  0.0  0.0    0.0  \n",
       "\n",
       "[3 rows x 29 columns]"
      ]
     },
     "execution_count": 53,
     "metadata": {},
     "output_type": "execute_result"
    }
   ],
   "source": [
    "### LOAD DATA\n",
    "\n",
    "data1 = pd.read_csv(\"./CMAPSSData/train_FD004.txt\",sep=\" \",header=None)\n",
    "col_id =0\n",
    "col_time = 1\n",
    "dataraw = data1.rename(index=str, columns={col_id: \"id\", col_time: \"time\"})\n",
    "\n",
    "## Last Entry for each id (max_time) (event =1)\n",
    "maxtime = dataraw[[\"time\",\"id\"]].groupby([\"id\"]).agg(\"max\")\n",
    "maxtime[\"event\"] = 1\n",
    "maxtime.reset_index(level=0, inplace=True)\n",
    "\n",
    "## JOIN BACK IN AND FILL NANS (event will be 1 for last entry 0 otherwise)\n",
    "new_df = pd.merge(dataraw, maxtime, how='left', on=['id', 'time'])\n",
    "dataset = new_df.fillna(0)\n",
    "\n",
    "dataset.head(3)\n",
    "\n"
   ]
  },
  {
   "cell_type": "code",
   "execution_count": 54,
   "metadata": {
    "collapsed": false
   },
   "outputs": [
    {
     "data": {
      "text/plain": [
       "<matplotlib.legend.Legend at 0x108373450>"
      ]
     },
     "execution_count": 54,
     "metadata": {},
     "output_type": "execute_result"
    },
    {
     "data": {
      "image/png": "[encoded data removed]",
      "text/plain": [
       "<matplotlib.figure.Figure at 0x108373690>"
      ]
     },
     "metadata": {},
     "output_type": "display_data"
    }
   ],
   "source": [
    "### DO PLOTS OF EVENT END TIME AND DATA POINTS\n",
    "plt.scatter(dataset[\"time\"],dataset[\"id\"],0.1,label='event')\n",
    "plt.xlabel('time')\n",
    "plt.ylabel('user')\n",
    "plt.legend()"
   ]
  },
  {
   "cell_type": "code",
   "execution_count": 59,
   "metadata": {
    "collapsed": false
   },
   "outputs": [],
   "source": [
    "### DO SIMPLE SPLIT BASED ON ID (COULD BE RANDOMIZED)\n",
    "idmax = dataset[\"id\"].max()\n",
    "val_ratio = .2\n",
    "\n",
    "dataset_train = dataset[dataset[\"id\"]>=idmax*val_ratio]\n",
    "dataset_test = dataset[dataset[\"id\"]<idmax*val_ratio]\n",
    "\n",
    "### GRAB data colnames\n",
    "c =dataset.columns\n",
    "data_col_names = [i for i in c if i not in [\"id,time,event\"]]\n",
    "\n",
    "# train set\n",
    "events_train  = tr.df_to_padded(df=dataset_train,column_names=['event'],t_col=\"time\")\n",
    "x_train       = tr.df_to_padded(df=dataset_train,column_names=(['event']+data_col_names),t_col=\"time\")\n",
    "\n",
    "# set set\n",
    "events_test  =  tr.df_to_padded(df=dataset_train,column_names=['event'],t_col=\"time\")\n",
    "x_test       =  tr.df_to_padded(df=dataset_train,column_names=(['event']+data_col_names),t_col=\"time\")"
   ]
  },
  {
   "cell_type": "code",
   "execution_count": null,
   "metadata": {
    "collapsed": true
   },
   "outputs": [],
   "source": []
  }
 ],
 "metadata": {
  "kernelspec": {
   "display_name": "Python 2",
   "language": "python",
   "name": "python2"
  },
  "language_info": {
   "codemirror_mode": {
    "name": "ipython",
    "version": 2
   },
   "file_extension": ".py",
   "mimetype": "text/x-python",
   "name": "python",
   "nbconvert_exporter": "python",
   "pygments_lexer": "ipython2",
   "version": "2.7.11"
  }
 },
 "nbformat": 4,
 "nbformat_minor": 2
}
